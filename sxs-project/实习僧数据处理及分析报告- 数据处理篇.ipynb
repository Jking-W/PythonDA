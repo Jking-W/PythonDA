{
 "cells": [
  {
   "cell_type": "markdown",
   "metadata": {},
   "source": [
    "# 实习僧数据处理及分析报告 - 数据处理篇"
   ]
  },
  {
   "cell_type": "markdown",
   "metadata": {},
   "source": [
    "## 项目背景及介绍"
   ]
  },
  {
   "cell_type": "markdown",
   "metadata": {},
   "source": [
    "### 前言"
   ]
  },
  {
   "cell_type": "markdown",
   "metadata": {},
   "source": [
    "首先要感谢一下Alfred1984前辈在github开源项目及代码，作为一个业余的数据分析爱好者能够获取这些学习和实践的资料，万分感谢。本报告首先对Alfred1984前辈的代码及分析思路进行了深度理解。在此基础上，对部分内容进行了调整和修改，添加了自己的思路及一些处理方式。"
   ]
  },
  {
   "cell_type": "markdown",
   "metadata": {},
   "source": [
    "### 需求及分析目的"
   ]
  },
  {
   "cell_type": "markdown",
   "metadata": {},
   "source": [
    "**<table><font color = blue>需求:</font></table>**   \n",
    "\n",
    "帮助某位想要求职“数据挖掘”、“机器学习”、“算法”的同学对实习僧网站上的相关岗位进行分析，根据该同学的情况选取最符合的岗位。\n",
    "\n",
    "**<table><font color = blue>同学信息:</font></table>**\n",
    "* 深圳人\n",
    "* 硕士在读\n",
    "* 只能实习3个月\n",
    "* 薪资高于深圳平均实习薪资\n",
    "* 要求是最新发布的职位\n",
    "\n",
    "**<table><font color = blue>源数据:</font></table>**  \n",
    "\n",
    "Alfred1984前辈爬取了当时实习僧网站上“数据挖掘”、“机器学习”、“算法”三个关键字下的近1000条岗位数据。本分析报告基于该部分数据进行分析和学习。"
   ]
  },
  {
   "cell_type": "markdown",
   "metadata": {},
   "source": [
    "## 数据处理阶段"
   ]
  },
  {
   "cell_type": "markdown",
   "metadata": {},
   "source": [
    "### 准备阶段"
   ]
  },
  {
   "cell_type": "markdown",
   "metadata": {},
   "source": [
    "<table><td bgcolor=#EAFAF align=\"left\"><font color=#0099ff size = 3 face=\"黑体\">用python处理和分析数据的基础当然是Numpy、Pandas、matplotlib这些相关包啦，所有第一步当然是导包啦。</font></td></table>"
   ]
  },
  {
   "cell_type": "code",
   "execution_count": 2,
   "metadata": {},
   "outputs": [],
   "source": [
    "import numpy as np\n",
    "import pandas as pd\n",
    "import matplotlib.pyplot as plt\n",
    "import seaborn as sns                           #数据可视化包\n",
    "import pyecharts                                #数据可视化包\n",
    "import missingno as msno                        #可视化查看丢失数据\n",
    "plt.style.use('ggplot')                         #数据可视化包\n",
    "plt.rcParams['font.sans-serif']=['SimHei']      #解决matplotlib无法显示中文的问题\n",
    "plt.rcParams['axes.unicode_minus'] = False\n",
    "from pylab import mpl\n",
    "mpl.rcParams['font.sans-serif'] = ['SimHei']    #解决seaborn中文字体显示问题\n",
    "plt.rc('figure', figsize = (20,20))             #把plt默认的图片size调大一点\n",
    "%matplotlib inline"
   ]
  },
  {
   "cell_type": "markdown",
   "metadata": {},
   "source": [
    "<table><td bgcolor=#EAFAF align=\"left\"><font color=#0099ff size = 3 face=\"黑体\">倒入数据，三个关键字的数据分别存储在了三个csv文件中</font></td></table>"
   ]
  },
  {
   "cell_type": "code",
   "execution_count": 3,
   "metadata": {},
   "outputs": [],
   "source": [
    "data_dm = pd.read_csv('datamining.csv')\n",
    "data_ml = pd.read_csv('machinelearning.csv')\n",
    "data_al = pd.read_csv('mlalgorithm.csv')\n",
    "data = pd.concat([data_dm, data_ml, data_al], ignore_index = True)      #把三个data文件合并起来并且重新set索"
   ]
  },
  {
   "cell_type": "markdown",
   "metadata": {},
   "source": [
    "<table><td bgcolor=#EAFAF align=\"left\"><font color=#0099ff size = 3 face=\"黑体\">通常来讲，数据倒入后，我都会先对原始数据进行多方位的查看一波，好好了解一下数据。</font></td></table>"
   ]
  },
  {
   "cell_type": "code",
   "execution_count": 4,
   "metadata": {},
   "outputs": [
    {
     "data": {
      "text/html": [
       "<div>\n",
       "<style scoped>\n",
       "    .dataframe tbody tr th:only-of-type {\n",
       "        vertical-align: middle;\n",
       "    }\n",
       "\n",
       "    .dataframe tbody tr th {\n",
       "        vertical-align: top;\n",
       "    }\n",
       "\n",
       "    .dataframe thead th {\n",
       "        text-align: right;\n",
       "    }\n",
       "</style>\n",
       "<table border=\"1\" class=\"dataframe\">\n",
       "  <thead>\n",
       "    <tr style=\"text-align: right;\">\n",
       "      <th></th>\n",
       "      <th>auth_capital</th>\n",
       "      <th>city</th>\n",
       "      <th>com_class</th>\n",
       "      <th>com_fullname</th>\n",
       "      <th>com_id</th>\n",
       "      <th>com_intro</th>\n",
       "      <th>com_links</th>\n",
       "      <th>com_location</th>\n",
       "      <th>com_logo</th>\n",
       "      <th>com_name</th>\n",
       "      <th>...</th>\n",
       "      <th>job_deadline</th>\n",
       "      <th>job_detail</th>\n",
       "      <th>job_links</th>\n",
       "      <th>job_title</th>\n",
       "      <th>num_employee</th>\n",
       "      <th>released_time</th>\n",
       "      <th>tag</th>\n",
       "      <th>time_span</th>\n",
       "      <th>update_time</th>\n",
       "      <th>wage</th>\n",
       "    </tr>\n",
       "  </thead>\n",
       "  <tbody>\n",
       "    <tr>\n",
       "      <th>870</th>\n",
       "      <td>注册资本：100 万元 人民币</td>\n",
       "      <td>北京</td>\n",
       "      <td>公司类型：有限责任公司(自然人独资)</td>\n",
       "      <td>北京数美科技有限公司</td>\n",
       "      <td>注册号：110108018799996</td>\n",
       "      <td>创新型互联网高科技公司</td>\n",
       "      <td>https://www.shixiseng.com/com/com_r0gy3z2pveej</td>\n",
       "      <td>蓟门壹号</td>\n",
       "      <td>https://sxsimg.xiaoyuanzhao.com/84/2A/84595DB9...</td>\n",
       "      <td>保数通</td>\n",
       "      <td>...</td>\n",
       "      <td>2018-03-31</td>\n",
       "      <td>NaN</td>\n",
       "      <td>https://www.shixiseng.com/intern/inn_mmqbheaw1qrr</td>\n",
       "      <td>数据处理实习生</td>\n",
       "      <td>少于15人</td>\n",
       "      <td>2周前</td>\n",
       "      <td>算法</td>\n",
       "      <td>13个月</td>\n",
       "      <td>2018-03-06 08:16:22</td>\n",
       "      <td>200-300/天</td>\n",
       "    </tr>\n",
       "    <tr>\n",
       "      <th>491</th>\n",
       "      <td>注册资本：100万人民币</td>\n",
       "      <td>上海</td>\n",
       "      <td>公司类型：有限责任公司（自然人独资）</td>\n",
       "      <td>上海点陌网络科技有限公司</td>\n",
       "      <td>统一社会信用代码：91310117MA1J2F5BXT</td>\n",
       "      <td>虚拟货币行业的互联网创业公司</td>\n",
       "      <td>https://www.shixiseng.com/com/com_jx6di4tmudut</td>\n",
       "      <td>上海市虹梅路2071号2号楼3楼weplus众创空间318、319</td>\n",
       "      <td>https://sxsimg.xiaoyuanzhao.com/E9/B8/E98E7A40...</td>\n",
       "      <td>点陌科技</td>\n",
       "      <td>...</td>\n",
       "      <td>2018-05-01</td>\n",
       "      <td>['职责：理解炒币专业人士的思路后，配合程序员，开发自动搬砖程序，套利程序，高频交易程序。'...</td>\n",
       "      <td>https://www.shixiseng.com/intern/inn_hqnrpmvwt0sg</td>\n",
       "      <td>数学建模实习生</td>\n",
       "      <td>15-50人</td>\n",
       "      <td>27小时前</td>\n",
       "      <td>算法</td>\n",
       "      <td>6个月</td>\n",
       "      <td>2018-03-21 12:27:58</td>\n",
       "      <td>250-500/天</td>\n",
       "    </tr>\n",
       "    <tr>\n",
       "      <th>683</th>\n",
       "      <td>注册资本：5000万人民币</td>\n",
       "      <td>上海</td>\n",
       "      <td>公司类型：有限责任公司（自然人投资或控股）</td>\n",
       "      <td>上海七牛信息技术有限公司</td>\n",
       "      <td>组织机构代码：58058395-0</td>\n",
       "      <td>专注为“互联网+”企业与创业者提供数据从管理到大数据分析的一站式服务。</td>\n",
       "      <td>https://www.shixiseng.com/com/com_xlkt9vljeqjt</td>\n",
       "      <td>上海市浦东新区金科路2889弄长泰国际广场A座10层</td>\n",
       "      <td>https://sxsimg.xiaoyuanzhao.com/3B/A7/3B5B3EA0...</td>\n",
       "      <td>七牛云</td>\n",
       "      <td>...</td>\n",
       "      <td>2018-09-30</td>\n",
       "      <td>['工作职责：', '1、 参加算法团队的数据定义、分布分析、数据采集和数据标注的发布和质量...</td>\n",
       "      <td>https://www.shixiseng.com/intern/inn_nyfnexeeinfi</td>\n",
       "      <td>算法工程师实习（智能数据方向）</td>\n",
       "      <td>500-2000人</td>\n",
       "      <td>3天前</td>\n",
       "      <td>软件</td>\n",
       "      <td>6个月</td>\n",
       "      <td>2018-03-19 10:15:35</td>\n",
       "      <td>200-300/天</td>\n",
       "    </tr>\n",
       "  </tbody>\n",
       "</table>\n",
       "<p>3 rows × 27 columns</p>\n",
       "</div>"
      ],
      "text/plain": [
       "        auth_capital city              com_class  com_fullname  \\\n",
       "870  注册资本：100 万元 人民币   北京     公司类型：有限责任公司(自然人独资)    北京数美科技有限公司   \n",
       "491     注册资本：100万人民币   上海     公司类型：有限责任公司（自然人独资）  上海点陌网络科技有限公司   \n",
       "683    注册资本：5000万人民币   上海  公司类型：有限责任公司（自然人投资或控股）  上海七牛信息技术有限公司   \n",
       "\n",
       "                          com_id                            com_intro  \\\n",
       "870          注册号：110108018799996                          创新型互联网高科技公司   \n",
       "491  统一社会信用代码：91310117MA1J2F5BXT                       虚拟货币行业的互联网创业公司   \n",
       "683            组织机构代码：58058395-0  专注为“互联网+”企业与创业者提供数据从管理到大数据分析的一站式服务。   \n",
       "\n",
       "                                          com_links  \\\n",
       "870  https://www.shixiseng.com/com/com_r0gy3z2pveej   \n",
       "491  https://www.shixiseng.com/com/com_jx6di4tmudut   \n",
       "683  https://www.shixiseng.com/com/com_xlkt9vljeqjt   \n",
       "\n",
       "                          com_location  \\\n",
       "870                               蓟门壹号   \n",
       "491  上海市虹梅路2071号2号楼3楼weplus众创空间318、319   \n",
       "683         上海市浦东新区金科路2889弄长泰国际广场A座10层   \n",
       "\n",
       "                                              com_logo com_name    ...      \\\n",
       "870  https://sxsimg.xiaoyuanzhao.com/84/2A/84595DB9...      保数通    ...       \n",
       "491  https://sxsimg.xiaoyuanzhao.com/E9/B8/E98E7A40...     点陌科技    ...       \n",
       "683  https://sxsimg.xiaoyuanzhao.com/3B/A7/3B5B3EA0...      七牛云    ...       \n",
       "\n",
       "    job_deadline                                         job_detail  \\\n",
       "870   2018-03-31                                                NaN   \n",
       "491   2018-05-01  ['职责：理解炒币专业人士的思路后，配合程序员，开发自动搬砖程序，套利程序，高频交易程序。'...   \n",
       "683   2018-09-30  ['工作职责：', '1、 参加算法团队的数据定义、分布分析、数据采集和数据标注的发布和质量...   \n",
       "\n",
       "                                             job_links        job_title  \\\n",
       "870  https://www.shixiseng.com/intern/inn_mmqbheaw1qrr          数据处理实习生   \n",
       "491  https://www.shixiseng.com/intern/inn_hqnrpmvwt0sg          数学建模实习生   \n",
       "683  https://www.shixiseng.com/intern/inn_nyfnexeeinfi  算法工程师实习（智能数据方向）   \n",
       "\n",
       "    num_employee released_time tag time_span          update_time       wage  \n",
       "870        少于15人           2周前  算法      13个月  2018-03-06 08:16:22  200-300/天  \n",
       "491       15-50人         27小时前  算法       6个月  2018-03-21 12:27:58  250-500/天  \n",
       "683    500-2000人           3天前  软件       6个月  2018-03-19 10:15:35  200-300/天  \n",
       "\n",
       "[3 rows x 27 columns]"
      ]
     },
     "execution_count": 4,
     "metadata": {},
     "output_type": "execute_result"
    }
   ],
   "source": [
    "data.sample(3) #随机查看3行数据"
   ]
  },
  {
   "cell_type": "markdown",
   "metadata": {},
   "source": [
    "\n",
    "**<table><font color = #ABB2B9>从上面的查询结果中我们可以看出，该数据表中每条数据的字段还是非常多的，我们可以通过很多不同的纬度对此份数据进行分析，下面我们来看看每条数据到底都包括来哪些字段。</font></table>** \n"
   ]
  },
  {
   "cell_type": "code",
   "execution_count": 5,
   "metadata": {},
   "outputs": [
    {
     "data": {
      "text/plain": [
       "auth_capital                                          注册资本：4520万元美元\n",
       "city                                                             北京\n",
       "com_class                                       公司类型：有限责任公司(外国法人独资)\n",
       "com_fullname                                       百度在线网络技术（北京）有限公司\n",
       "com_id                                          注册号：110000410144104\n",
       "com_intro                                       全球最大的中文搜索引擎、最大的中文网站\n",
       "com_links            https://www.shixiseng.com/com/com_tf3pjfyfvs7c\n",
       "com_location                                            北京市海淀区百度科技园\n",
       "com_logo          https://sxsimg.xiaoyuanzhao.com/0A/80/0A4DB3F4...\n",
       "com_name                                                         百度\n",
       "com_website                                    http://www.baidu.com\n",
       "com_welfare        ['团队大牛云集', '免费茶饮', '专业', '团队专业', '有文化', '福利待遇好']\n",
       "day_per_week                                                   4天/周\n",
       "detailed_intro    百度核心价值: 为人们提供最便捷的信息获取方式 百度狂热的追求更好的搜索技术，追求给网民带来...\n",
       "est_date                                            成立日期：2000-01-18\n",
       "industry                                                        互联网\n",
       "job_academic                                                     本科\n",
       "job_deadline                                             2018-04-02\n",
       "job_detail        ['【工作职责】', '-负责百度搜索引擎基础数据挖掘核心技术研究和开发', '-负责搜索引...\n",
       "job_links         https://www.shixiseng.com/intern/inn_4jjckpzxx469\n",
       "job_title                                                   数据挖掘实习生\n",
       "num_employee                                                2000人以上\n",
       "released_time                                                 32分钟前\n",
       "tag                                                            数据挖掘\n",
       "time_span                                                       4个月\n",
       "update_time                                     2018-03-21 10:22:52\n",
       "wage                                                      150-200/天\n",
       "Name: 3, dtype: object"
      ]
     },
     "execution_count": 5,
     "metadata": {},
     "output_type": "execute_result"
    }
   ],
   "source": [
    "data.loc[3] #抽取一条数据查看所有特征的数据类型"
   ]
  },
  {
   "cell_type": "markdown",
   "metadata": {},
   "source": [
    "**<table><font color = #ABB2B9>接下来我们来看下原始数据的各字段的数据类型情况。</font></table>** "
   ]
  },
  {
   "cell_type": "code",
   "execution_count": 8,
   "metadata": {
    "scrolled": true
   },
   "outputs": [
    {
     "name": "stdout",
     "output_type": "stream",
     "text": [
      "<class 'pandas.core.frame.DataFrame'>\n",
      "RangeIndex: 978 entries, 0 to 977\n",
      "Data columns (total 27 columns):\n",
      "auth_capital      906 non-null object\n",
      "city              974 non-null object\n",
      "com_class         954 non-null object\n",
      "com_fullname      974 non-null object\n",
      "com_id            906 non-null object\n",
      "com_intro         974 non-null object\n",
      "com_links         978 non-null object\n",
      "com_location      978 non-null object\n",
      "com_logo          974 non-null object\n",
      "com_name          974 non-null object\n",
      "com_website       865 non-null object\n",
      "com_welfare       978 non-null object\n",
      "day_per_week      978 non-null object\n",
      "detailed_intro    912 non-null object\n",
      "est_date          906 non-null object\n",
      "industry          960 non-null object\n",
      "job_academic      978 non-null object\n",
      "job_deadline      978 non-null object\n",
      "job_detail        681 non-null object\n",
      "job_links         978 non-null object\n",
      "job_title         978 non-null object\n",
      "num_employee      972 non-null object\n",
      "released_time     978 non-null object\n",
      "tag               978 non-null object\n",
      "time_span         978 non-null object\n",
      "update_time       978 non-null object\n",
      "wage              978 non-null object\n",
      "dtypes: object(27)\n",
      "memory usage: 206.4+ KB\n"
     ]
    }
   ],
   "source": [
    "data.info() #查看字段基本情况"
   ]
  },
  {
   "cell_type": "markdown",
   "metadata": {},
   "source": [
    "**<table><font color = #ABB2B9>我们可以看到原始数据的各字段都是object类型。接下来我们来看看整体的数据情况。</font></table>** "
   ]
  },
  {
   "cell_type": "code",
   "execution_count": 9,
   "metadata": {},
   "outputs": [
    {
     "data": {
      "text/plain": [
       "(978, 27)"
      ]
     },
     "execution_count": 9,
     "metadata": {},
     "output_type": "execute_result"
    }
   ],
   "source": [
    "data.shape #查看行列"
   ]
  },
  {
   "cell_type": "code",
   "execution_count": 10,
   "metadata": {},
   "outputs": [
    {
     "data": {
      "text/plain": [
       "<matplotlib.axes._subplots.AxesSubplot at 0x10d4931d0>"
      ]
     },
     "execution_count": 10,
     "metadata": {},
     "output_type": "execute_result"
    },
    {
     "data": {
      "image/png": "[encoded data removed]",
      "text/plain": [
       "<matplotlib.figure.Figure at 0x11340c7b8>"
      ]
     },
     "metadata": {},
     "output_type": "display_data"
    }
   ],
   "source": [
    "msno.matrix(data, labels=True) #查看下数据缺失情况"
   ]
  },
  {
   "cell_type": "markdown",
   "metadata": {},
   "source": [
    "**<table><font color = #ABB2B9>这个方式的好处就是我们可以通过可视化的方式看我们数据信息缺失情况。从上图中我们可以看出,例如job_links字段数据是没有缺失情况的；相反，job_detail字段数据缺失情况就比较严重</font></table>** "
   ]
  },
  {
   "cell_type": "markdown",
   "metadata": {},
   "source": [
    "### 数据处理阶段"
   ]
  },
  {
   "cell_type": "markdown",
   "metadata": {},
   "source": [
    "<table><td bgcolor=#EAFAF align=\"left\"><font color=#0099ff size = 3 face=\"黑体\">第一步：首先我们先对数据进行整体处理，包括：去重和去除不需要的字段，处理逻辑如下：<font></td></table>\n",
    "* 根据招聘链接字段 job_links 进行去重操作。\n",
    "* 去除 com_id、com_links、com_location、com_website、com_welfare、detailed_intro、job_detail 字段，本次分析暂不需要这些字段，把处理后的数据存入data_clean的dataFrame\n"
   ]
  },
  {
   "cell_type": "code",
   "execution_count": 11,
   "metadata": {},
   "outputs": [],
   "source": [
    "data.drop_duplicates(subset = 'job_links', inplace = True)  #根据招聘链接去重（(inplace=True)是直接对原dataFrame进行操作。）"
   ]
  },
  {
   "cell_type": "code",
   "execution_count": 12,
   "metadata": {},
   "outputs": [
    {
     "data": {
      "text/plain": [
       "(878, 27)"
      ]
     },
     "execution_count": 12,
     "metadata": {},
     "output_type": "execute_result"
    }
   ],
   "source": [
    "data.shape #查看去重后的数据量"
   ]
  },
  {
   "cell_type": "code",
   "execution_count": 13,
   "metadata": {},
   "outputs": [],
   "source": [
    "data_clean = data.drop(['com_id','com_links','com_location','com_website','detailed_intro','job_detail'], axis =1 ) # 删除不需要的字段"
   ]
  },
  {
   "cell_type": "markdown",
   "metadata": {},
   "source": [
    "<table><td bgcolor=#EAFAF align=\"left\"><font color=#0099ff size = 3 face=\"黑体\">第二步：下面开始对data_clean中的字段逐个清洗处理，初步处理思路如下：<font></td></table>\n",
    "* 要对数字相关的字段改成数值型数据，包括：auth_capital, num_empliyee, wage, day_per_week, time_span\n",
    "* 要将时间的字段改成datatime类型，包括：est_date”（公司成立日期）、“job_deadline”（截止时间）、\n",
    "“released_time”（发布时间）、“update_time”（更新时间）等字段"
   ]
  },
  {
   "cell_type": "markdown",
   "metadata": {},
   "source": [
    "--------------------------------------------------数值型数据处理----------------------------------------------------"
   ]
  },
  {
   "cell_type": "markdown",
   "metadata": {},
   "source": [
    "<table><font color=#E59866 size = 3 face=\"黑体\">\n",
    "<br>\n",
    "字段：auth_capital\n",
    "<br>\n",
    "数据样例：‘注册资本：1300万美元’\n",
    "<br>\n",
    "处理思路:先把“注册资本：”清理掉，再把数值型数据提取出来，然后根据各币种的汇率，把注册资本转换为“万元人民币”单位</font></table>"
   ]
  },
  {
   "cell_type": "code",
   "execution_count": 26,
   "metadata": {},
   "outputs": [
    {
     "data": {
      "text/plain": [
       "68          注册资本：4500万\n",
       "303    注册资本：5450 万元 美元\n",
       "205                NaN\n",
       "Name: auth_capital, dtype: object"
      ]
     },
     "execution_count": 26,
     "metadata": {},
     "output_type": "execute_result"
    }
   ],
   "source": [
    "#第一步：看下auth_capital的数据样例\n",
    "data_clean['auth_capital'].sample(3)"
   ]
  },
  {
   "cell_type": "code",
   "execution_count": 18,
   "metadata": {
    "scrolled": true
   },
   "outputs": [
    {
     "data": {
      "text/plain": [
       "dtype('O')"
      ]
     },
     "execution_count": 18,
     "metadata": {},
     "output_type": "execute_result"
    }
   ],
   "source": [
    "#第二步：看下auth_capital的数据格式\n",
    "data_clean['auth_capital'].dtypes"
   ]
  },
  {
   "cell_type": "code",
   "execution_count": 19,
   "metadata": {},
   "outputs": [
    {
     "data": {
      "text/html": [
       "<div>\n",
       "<style scoped>\n",
       "    .dataframe tbody tr th:only-of-type {\n",
       "        vertical-align: middle;\n",
       "    }\n",
       "\n",
       "    .dataframe tbody tr th {\n",
       "        vertical-align: top;\n",
       "    }\n",
       "\n",
       "    .dataframe thead th {\n",
       "        text-align: right;\n",
       "    }\n",
       "</style>\n",
       "<table border=\"1\" class=\"dataframe\">\n",
       "  <thead>\n",
       "    <tr style=\"text-align: right;\">\n",
       "      <th></th>\n",
       "      <th>0</th>\n",
       "      <th>1</th>\n",
       "    </tr>\n",
       "  </thead>\n",
       "  <tbody>\n",
       "    <tr>\n",
       "      <th>336</th>\n",
       "      <td>注册资本</td>\n",
       "      <td>22000万美元</td>\n",
       "    </tr>\n",
       "    <tr>\n",
       "      <th>920</th>\n",
       "      <td>注册资本</td>\n",
       "      <td>319.7247万元人民币</td>\n",
       "    </tr>\n",
       "    <tr>\n",
       "      <th>184</th>\n",
       "      <td>注册资本</td>\n",
       "      <td>1000 万元 人民币</td>\n",
       "    </tr>\n",
       "    <tr>\n",
       "      <th>906</th>\n",
       "      <td>注册资本</td>\n",
       "      <td>289974.8755 万元人民币</td>\n",
       "    </tr>\n",
       "    <tr>\n",
       "      <th>902</th>\n",
       "      <td>NaN</td>\n",
       "      <td>NaN</td>\n",
       "    </tr>\n",
       "  </tbody>\n",
       "</table>\n",
       "</div>"
      ],
      "text/plain": [
       "        0                  1\n",
       "336  注册资本           22000万美元\n",
       "920  注册资本      319.7247万元人民币\n",
       "184  注册资本        1000 万元 人民币\n",
       "906  注册资本  289974.8755 万元人民币\n",
       "902   NaN                NaN"
      ]
     },
     "execution_count": 19,
     "metadata": {},
     "output_type": "execute_result"
    }
   ],
   "source": [
    "#第三步：切割字符串(：分割)，去除注册资本，保留金额和单位\n",
    "auth_capital = data_clean['auth_capital'].str.split('：',expand = True) #这里有2点要注意（1）expend = True代表，分拆后的各元素分别占一列 （2）'：'这里的冒号是中文格式的因为要和数据中的一致\n",
    "auth_capital.sample(5)"
   ]
  },
  {
   "cell_type": "code",
   "execution_count": 88,
   "metadata": {},
   "outputs": [
    {
     "data": {
      "text/html": [
       "<div>\n",
       "<style scoped>\n",
       "    .dataframe tbody tr th:only-of-type {\n",
       "        vertical-align: middle;\n",
       "    }\n",
       "\n",
       "    .dataframe tbody tr th {\n",
       "        vertical-align: top;\n",
       "    }\n",
       "\n",
       "    .dataframe thead th {\n",
       "        text-align: right;\n",
       "    }\n",
       "</style>\n",
       "<table border=\"1\" class=\"dataframe\">\n",
       "  <thead>\n",
       "    <tr style=\"text-align: right;\">\n",
       "      <th></th>\n",
       "      <th>0</th>\n",
       "      <th>1</th>\n",
       "      <th>num</th>\n",
       "      <th>ex_rate</th>\n",
       "    </tr>\n",
       "  </thead>\n",
       "  <tbody>\n",
       "    <tr>\n",
       "      <th>507</th>\n",
       "      <td>注册资本</td>\n",
       "      <td>500万元人民币</td>\n",
       "      <td>500.00</td>\n",
       "      <td>1.0</td>\n",
       "    </tr>\n",
       "    <tr>\n",
       "      <th>555</th>\n",
       "      <td>注册资本</td>\n",
       "      <td>1010万元人民币</td>\n",
       "      <td>1010.00</td>\n",
       "      <td>1.0</td>\n",
       "    </tr>\n",
       "    <tr>\n",
       "      <th>182</th>\n",
       "      <td>注册资本</td>\n",
       "      <td>1000 万元</td>\n",
       "      <td>1000.00</td>\n",
       "      <td>NaN</td>\n",
       "    </tr>\n",
       "    <tr>\n",
       "      <th>215</th>\n",
       "      <td>注册资本</td>\n",
       "      <td>11.99 万元人民币</td>\n",
       "      <td>11.99</td>\n",
       "      <td>1.0</td>\n",
       "    </tr>\n",
       "    <tr>\n",
       "      <th>693</th>\n",
       "      <td>注册资本</td>\n",
       "      <td>203000 万元</td>\n",
       "      <td>203000.00</td>\n",
       "      <td>NaN</td>\n",
       "    </tr>\n",
       "  </tbody>\n",
       "</table>\n",
       "</div>"
      ],
      "text/plain": [
       "        0            1        num  ex_rate\n",
       "507  注册资本     500万元人民币     500.00      1.0\n",
       "555  注册资本    1010万元人民币    1010.00      1.0\n",
       "182  注册资本      1000 万元    1000.00      NaN\n",
       "215  注册资本  11.99 万元人民币      11.99      1.0\n",
       "693  注册资本    203000 万元  203000.00      NaN"
      ]
     },
     "execution_count": 88,
     "metadata": {},
     "output_type": "execute_result"
    }
   ],
   "source": [
    "#第四步：把金额提取出来，转换成float型\n",
    "auth_capital['num'] = auth_capital[1].str.extract('([0-9.]+)', expand=False).astype('float') #(1)将提取出的内容存入num字段 （2）'([0-9.]+)'为正则表达式 (3)dtype为查看数据，astype为转换数据\n",
    "auth_capital.sample(5)"
   ]
  },
  {
   "cell_type": "code",
   "execution_count": 89,
   "metadata": {},
   "outputs": [
    {
     "data": {
      "text/plain": [
       "array(['美元', '人民币', '元美元', nan, '元人民币', '人民币元', '元', None, '元 人民币', '',\n",
       "       '元 美元', '元港元（港币）', '港币', '香港元', '欧元', '元 港元（港币）'], dtype=object)"
      ]
     },
     "execution_count": 89,
     "metadata": {},
     "output_type": "execute_result"
    }
   ],
   "source": [
    "#第五步：处理币种单位\n",
    "#(1) 把金额和单位以‘万’split开，查看下有哪些币种\n",
    "auth_capital[1].str.split('万', expand = True)[1].unique()   #split后金额存在‘0’字段，单位存在‘1’字段，对1字段做uniqe处理，就可以看出来有哪些币种"
   ]
  },
  {
   "cell_type": "markdown",
   "metadata": {},
   "source": [
    "**<table><font color = #ABB2B9>可以看出公司注册资本基本上都是人民币，欧元或者港币计算，下一步我们可以通过设置函数来将不同的币种转化成人民币</font></table>** \n",
    "\n",
    "**<table><font color = red>注意：我们可以看到这列数据种有'nan'和'None'这两个值，这两个值非常的特殊，nan是float类型（float, int 不是可遍历的类型，可遍历的常用类型有字符串(str), 列表(list), 字典(dict)，集合(set)）</font></table>** "
   ]
  },
  {
   "cell_type": "code",
   "execution_count": 90,
   "metadata": {},
   "outputs": [],
   "source": [
    "#（2）定义判断是否为nan函数\n",
    "def isfloat(value):\n",
    "    try:\n",
    "        float(value)\n",
    "        return True\n",
    "    except ValueError:\n",
    "        return False\n",
    "    \n",
    "#（3）定义函数，计算汇率\n",
    "def get_ex_rate(string):\n",
    "    if string is None:        #大大坑！！！！！这个错误的罪魁祸首-》》》》》 argument of type 'NoneType' is not iterable\n",
    "        return np.nan\n",
    "    if isfloat(string):      #大大坑！！！！！NaN是float格式！！！这个错误的罪魁祸首-》》》》》TypeError: argument of type 'float' is not iterable\n",
    "        return np.nan\n",
    "    if '人民币' in string:\n",
    "        return 1.00\n",
    "    elif '港' in string:\n",
    "        return 0.80\n",
    "    elif '美元' in string:\n",
    "        return 6.29\n",
    "    elif '欧元' in string:\n",
    "        return 7.73\n",
    "    else:\n",
    "        return np.nan"
   ]
  },
  {
   "cell_type": "code",
   "execution_count": 91,
   "metadata": {},
   "outputs": [],
   "source": [
    "#（4）把汇率存入ex_rate字段\n",
    "auth_capital['ex_rate'] = auth_capital[1].apply(get_ex_rate)"
   ]
  },
  {
   "cell_type": "code",
   "execution_count": 92,
   "metadata": {},
   "outputs": [],
   "source": [
    "#（5）把金额统一为人民币\n",
    "data_clean['auth_capital'] = auth_capital['num'] * auth_capital['ex_rate']"
   ]
  },
  {
   "cell_type": "code",
   "execution_count": 87,
   "metadata": {},
   "outputs": [
    {
     "data": {
      "text/plain": [
       "0    235875.0000\n",
       "1     27570.9972\n",
       "2       314.5000\n",
       "3     28430.8000\n",
       "4     28430.8000\n",
       "Name: auth_capital, dtype: float64"
      ]
     },
     "execution_count": 87,
     "metadata": {},
     "output_type": "execute_result"
    }
   ],
   "source": [
    "#（6）最后我们再来看下我们处理的数据\n",
    "data_clean['auth_capital'].head()"
   ]
  },
  {
   "cell_type": "code",
   "execution_count": 96,
   "metadata": {},
   "outputs": [
    {
     "data": {
      "text/plain": [
       "866    348466.00\n",
       "660     36000.00\n",
       "927       899.12\n",
       "555      1010.00\n",
       "140      1000.00\n",
       "Name: auth_capital, dtype: float64"
      ]
     },
     "execution_count": 96,
     "metadata": {},
     "output_type": "execute_result"
    }
   ],
   "source": [
    "#(7) 金额一般都保留两位小数，我们再处理一下\n",
    "data_clean['auth_capital'] = data_clean['auth_capital'].round(decimals = 2)\n",
    "data_clean['auth_capital'].sample(5)"
   ]
  },
  {
   "cell_type": "markdown",
   "metadata": {},
   "source": [
    "<table><font color = red>注意：这里我们需要注意一下，保留小数有两种方式：\n",
    "\n",
    "* .round(decimals = 2) 这种方式转换完的数据类型为float\n",
    "* .map(lambda x:(\"%.2f\")%x) 这种方式处理完的数据类型为object\n",
    "</font>\n",
    "<br>\n",
    "<br>\n",
    "**<font color = #ABB2B9>此时，auth_capital(注册资本)字段已经处理为xxxx（万元人民币）</font></table>**\n"
   ]
  },
  {
   "cell_type": "markdown",
   "metadata": {},
   "source": [
    "<table><font color=#E59866 size = 3 face=\"黑体\">\n",
    "<br>\n",
    "字段：day_per_week\n",
    "<br>\n",
    "数据样例：‘3天/周’\n",
    "<br>\n",
    "处理思路:直接把字段中别的汉字去除，保留数字</font></table>"
   ]
  },
  {
   "cell_type": "code",
   "execution_count": 97,
   "metadata": {},
   "outputs": [
    {
     "data": {
      "text/plain": [
       "72     3天/周\n",
       "970    3天/周\n",
       "760    3天/周\n",
       "Name: day_per_week, dtype: object"
      ]
     },
     "execution_count": 97,
     "metadata": {},
     "output_type": "execute_result"
    }
   ],
   "source": [
    "#第一步：看下day_per_week的数据样例\n",
    "data_clean['day_per_week'].sample(3)"
   ]
  },
  {
   "cell_type": "code",
   "execution_count": 98,
   "metadata": {},
   "outputs": [
    {
     "data": {
      "text/plain": [
       "array(['4天/周', '5天/周', '3天/周', '2天/周', '6天/周'], dtype=object)"
      ]
     },
     "execution_count": 98,
     "metadata": {},
     "output_type": "execute_result"
    }
   ],
   "source": [
    "#第二步，看下去重后的数据\n",
    "data_clean.day_per_week.unique() #查看下该字段先有哪些数据（不重复的）"
   ]
  },
  {
   "cell_type": "code",
   "execution_count": 99,
   "metadata": {},
   "outputs": [],
   "source": [
    "#第三步，数据量不大，直接赋值,用loc定位数据的行，列  ----》通过标签的label的形式选取数据---loc\n",
    "data_clean.loc[data['day_per_week']=='2天/周', 'day_per_week'] = 2\n",
    "data_clean.loc[data['day_per_week']=='3天/周', 'day_per_week'] = 3\n",
    "data_clean.loc[data['day_per_week']=='4天/周', 'day_per_week'] = 4\n",
    "data_clean.loc[data['day_per_week']=='5天/周', 'day_per_week'] = 5\n",
    "data_clean.loc[data['day_per_week']=='6天/周', 'day_per_week'] = 6"
   ]
  },
  {
   "cell_type": "code",
   "execution_count": 101,
   "metadata": {},
   "outputs": [
    {
     "data": {
      "text/plain": [
       "136    4\n",
       "65     4\n",
       "241    5\n",
       "Name: day_per_week, dtype: int64"
      ]
     },
     "execution_count": 101,
     "metadata": {},
     "output_type": "execute_result"
    }
   ],
   "source": [
    "#第四步，最后我们再来看下我们处理的数据\n",
    "data_clean['day_per_week'].sample(3)"
   ]
  },
  {
   "cell_type": "markdown",
   "metadata": {},
   "source": [
    "<table><font color = #ABB2B9>最后看了一下type没问题，是我们要的数值类型</font><table>"
   ]
  },
  {
   "cell_type": "markdown",
   "metadata": {},
   "source": [
    "<table><font color=#E59866 size = 3 face=\"黑体\">\n",
    "字段：time_span\n",
    "<br>\n",
    "数据样例：‘3个月’\n",
    "<br>\n",
    "处理思路:只保留月份数字，把‘个月’去除</font></table>"
   ]
  },
  {
   "cell_type": "code",
   "execution_count": 109,
   "metadata": {},
   "outputs": [
    {
     "data": {
      "text/plain": [
       "972    11个月\n",
       "527     3个月\n",
       "307     7个月\n",
       "Name: time_span, dtype: object"
      ]
     },
     "execution_count": 109,
     "metadata": {},
     "output_type": "execute_result"
    }
   ],
   "source": [
    "#第一步：看下day_per_week的数据样例\n",
    "data_clean['time_span'].sample(3)"
   ]
  },
  {
   "cell_type": "code",
   "execution_count": 110,
   "metadata": {},
   "outputs": [
    {
     "data": {
      "text/plain": [
       "array(['3个月', '4个月', '6个月', '7个月', '5个月', '9个月', '8个月', '10个月', '12个月',\n",
       "       '13个月', '18个月', '14个月', '16个月', '11个月', '15个月', '2个月', '17个月',\n",
       "       '1个月'], dtype=object)"
      ]
     },
     "execution_count": 110,
     "metadata": {},
     "output_type": "execute_result"
    }
   ],
   "source": [
    "#第二步，看下去重后的数据\n",
    "data_clean.time_span.unique() #查看下该字段先有哪些数据（不重复的）"
   ]
  },
  {
   "cell_type": "code",
   "execution_count": 112,
   "metadata": {},
   "outputs": [
    {
     "name": "stdout",
     "output_type": "stream",
     "text": [
      "{'1个月': 1, '2个月': 2, '3个月': 3, '4个月': 4, '5个月': 5, '6个月': 6, '7个月': 7, '8个月': 8, '9个月': 9, '10个月': 10, '11个月': 11, '12个月': 12, '13个月': 13, '14个月': 14, '15个月': 15, '16个月': 16, '17个月': 17, '18个月': 18}\n"
     ]
    }
   ],
   "source": [
    "#第二步，处理逻辑和上个字段一样，但是由于枚举过多，这次用遍历形式处理\n",
    "#(构造一个字典，通过pd.Series.map() 也就是映射的方式来做，方便快捷)\n",
    "\n",
    "#(1) 用mapping做一组键值对 ------》'xx个月'为键，xx为值\n",
    "mapping = {} #建立一个空series\n",
    "for i in range(1,19):        #枚举值在1-18个月\n",
    "    mapping[str(i) + '个月'] = i\n",
    "print(mapping)"
   ]
  },
  {
   "cell_type": "code",
   "execution_count": 113,
   "metadata": {},
   "outputs": [],
   "source": [
    "#(2) 用map函数把键值对中的值赋到df中\n",
    "data_clean['time_span'] = data['time_span'].map(mapping)"
   ]
  },
  {
   "cell_type": "code",
   "execution_count": 114,
   "metadata": {},
   "outputs": [
    {
     "data": {
      "text/plain": [
       "500    7\n",
       "781    4\n",
       "929    6\n",
       "Name: time_span, dtype: int64"
      ]
     },
     "execution_count": 114,
     "metadata": {},
     "output_type": "execute_result"
    }
   ],
   "source": [
    "#第三步，最后我们再来看下我们处理的数据\n",
    "data_clean['time_span'].sample(3)"
   ]
  },
  {
   "cell_type": "markdown",
   "metadata": {},
   "source": [
    "<table><font color=#E59866 size = 3 face=\"黑体\">\n",
    "字段：wage \n",
    "<br>\n",
    "数据样例：‘120-198/天’\n",
    "<br>\n",
    "处理思路: 把最高和最低工资抽取出来，求每个岗位的平均工资</font></table>"
   ]
  },
  {
   "cell_type": "code",
   "execution_count": 116,
   "metadata": {},
   "outputs": [
    {
     "data": {
      "text/plain": [
       "138     80-120/天\n",
       "266    200-350/天\n",
       "79     150-200/天\n",
       "Name: wage, dtype: object"
      ]
     },
     "execution_count": 116,
     "metadata": {},
     "output_type": "execute_result"
    }
   ],
   "source": [
    "#第一步：看下day_per_week的数据样例\n",
    "data_clean['wage'].sample(3)"
   ]
  },
  {
   "cell_type": "code",
   "execution_count": 120,
   "metadata": {},
   "outputs": [
    {
     "data": {
      "text/plain": [
       "0    160\n",
       "1    280\n",
       "Name: 1, dtype: object"
      ]
     },
     "execution_count": 120,
     "metadata": {},
     "output_type": "execute_result"
    }
   ],
   "source": [
    "#第二步，把工资区间变为取一个最低和最高工资\n",
    "wage = data['wage'].str.extract('([0-9.]+)-([0-9.]+)/天', expand = True) #数据类型为object\n",
    "wage.loc[1]"
   ]
  },
  {
   "cell_type": "markdown",
   "metadata": {},
   "source": [
    "**<table><font color = #ABB2B9>我们可以看到数据类型是object，需要处理成数值型才能进行求平均值</font></table>**"
   ]
  },
  {
   "cell_type": "code",
   "execution_count": 124,
   "metadata": {},
   "outputs": [
    {
     "data": {
      "text/plain": [
       "0    160\n",
       "1    280\n",
       "Name: 1, dtype: int64"
      ]
     },
     "execution_count": 124,
     "metadata": {},
     "output_type": "execute_result"
    }
   ],
   "source": [
    "#第三步，转换类型\n",
    "wage = wage.astype('int')\n",
    "wage.loc[1] #此时数据类型为int"
   ]
  },
  {
   "cell_type": "code",
   "execution_count": 127,
   "metadata": {},
   "outputs": [
    {
     "data": {
      "text/plain": [
       "0    200.5\n",
       "1    220.0\n",
       "2    140.0\n",
       "3    175.0\n",
       "4    175.0\n",
       "Name: avg_wage, dtype: float64"
      ]
     },
     "execution_count": 127,
     "metadata": {},
     "output_type": "execute_result"
    }
   ],
   "source": [
    "#第四步，求平均值\n",
    "data_clean['avg_wage'] = wage.mean(axis = 1)\n",
    "data_clean['avg_wage'].head()"
   ]
  },
  {
   "cell_type": "markdown",
   "metadata": {},
   "source": [
    "**<table><font color = #ABB2B9>数值类型的字段我们就到此处理结束啦～～，让我们来看一下我们处理过后的几个字段长啥样</font></table>**"
   ]
  },
  {
   "cell_type": "code",
   "execution_count": 134,
   "metadata": {},
   "outputs": [
    {
     "data": {
      "text/html": [
       "<div>\n",
       "<style scoped>\n",
       "    .dataframe tbody tr th:only-of-type {\n",
       "        vertical-align: middle;\n",
       "    }\n",
       "\n",
       "    .dataframe tbody tr th {\n",
       "        vertical-align: top;\n",
       "    }\n",
       "\n",
       "    .dataframe thead th {\n",
       "        text-align: right;\n",
       "    }\n",
       "</style>\n",
       "<table border=\"1\" class=\"dataframe\">\n",
       "  <thead>\n",
       "    <tr style=\"text-align: right;\">\n",
       "      <th></th>\n",
       "      <th>auth_capital</th>\n",
       "      <th>avg_wage</th>\n",
       "      <th>day_per_week</th>\n",
       "      <th>time_span</th>\n",
       "    </tr>\n",
       "  </thead>\n",
       "  <tbody>\n",
       "    <tr>\n",
       "      <th>0</th>\n",
       "      <td>235875.0</td>\n",
       "      <td>200.5</td>\n",
       "      <td>4</td>\n",
       "      <td>3</td>\n",
       "    </tr>\n",
       "    <tr>\n",
       "      <th>1</th>\n",
       "      <td>27571.0</td>\n",
       "      <td>220.0</td>\n",
       "      <td>5</td>\n",
       "      <td>4</td>\n",
       "    </tr>\n",
       "    <tr>\n",
       "      <th>2</th>\n",
       "      <td>314.5</td>\n",
       "      <td>140.0</td>\n",
       "      <td>4</td>\n",
       "      <td>4</td>\n",
       "    </tr>\n",
       "    <tr>\n",
       "      <th>3</th>\n",
       "      <td>28430.8</td>\n",
       "      <td>175.0</td>\n",
       "      <td>4</td>\n",
       "      <td>4</td>\n",
       "    </tr>\n",
       "    <tr>\n",
       "      <th>4</th>\n",
       "      <td>28430.8</td>\n",
       "      <td>175.0</td>\n",
       "      <td>4</td>\n",
       "      <td>4</td>\n",
       "    </tr>\n",
       "  </tbody>\n",
       "</table>\n",
       "</div>"
      ],
      "text/plain": [
       "   auth_capital  avg_wage  day_per_week  time_span\n",
       "0      235875.0     200.5             4          3\n",
       "1       27571.0     220.0             5          4\n",
       "2         314.5     140.0             4          4\n",
       "3       28430.8     175.0             4          4\n",
       "4       28430.8     175.0             4          4"
      ]
     },
     "execution_count": 134,
     "metadata": {},
     "output_type": "execute_result"
    }
   ],
   "source": [
    "data_check = pd.DataFrame({'auth_capital':data_clean['auth_capital'], 'day_per_week':data_clean['day_per_week'], 'time_span':data_clean['time_span'], 'avg_wage':data_clean['avg_wage']})\n",
    "data_check.head()"
   ]
  },
  {
   "cell_type": "markdown",
   "metadata": {},
   "source": [
    "--------------------------------------------------时间类型数据处理----------------------------------------------------"
   ]
  },
  {
   "cell_type": "markdown",
   "metadata": {},
   "source": [
    "<table><font color=#E59866 size = 3 face=\"黑体\">\n",
    "字段：est_date\n",
    "<br>\n",
    "数据样例：‘成立日期：2011-04-14’\n",
    "<br>\n",
    "期望时间格式：xxxx-xx-xx\n",
    "<br>\n",
    "处理思路: 把'成立时间'去除，把格式转换成datetime</font></table>"
   ]
  },
  {
   "cell_type": "code",
   "execution_count": 136,
   "metadata": {},
   "outputs": [
    {
     "data": {
      "text/plain": [
       "123    成立日期：2016-04-07\n",
       "512    成立日期：2013-01-29\n",
       "715    成立日期：2011-08-03\n",
       "Name: est_date, dtype: object"
      ]
     },
     "execution_count": 136,
     "metadata": {},
     "output_type": "execute_result"
    }
   ],
   "source": [
    "#第一步：看下数据样例\n",
    "data_clean['est_date'].sample(3)"
   ]
  },
  {
   "cell_type": "code",
   "execution_count": 142,
   "metadata": {},
   "outputs": [
    {
     "data": {
      "text/plain": [
       "0    2004-12-07\n",
       "1    1995-09-22\n",
       "2    2002-10-15\n",
       "3    2000-01-18\n",
       "4    2000-01-18\n",
       "Name: est_date, dtype: object"
      ]
     },
     "execution_count": 142,
     "metadata": {},
     "output_type": "execute_result"
    }
   ],
   "source": [
    "#第二步：正则提取\n",
    "est_date = data['est_date'].str.extract('成立日期：([0-9-]+)', expand=False) #现在是object类型\n",
    "est_date.head()"
   ]
  },
  {
   "cell_type": "code",
   "execution_count": 145,
   "metadata": {},
   "outputs": [
    {
     "data": {
      "text/plain": [
       "0   2004-12-07\n",
       "1   1995-09-22\n",
       "2   2002-10-15\n",
       "3   2000-01-18\n",
       "4   2000-01-18\n",
       "Name: est_date, dtype: datetime64[ns]"
      ]
     },
     "execution_count": 145,
     "metadata": {},
     "output_type": "execute_result"
    }
   ],
   "source": [
    "#第三步：类型转换\n",
    "data_clean['est_date'] = pd.to_datetime(est_date)\n",
    "data_clean['est_date'].head()"
   ]
  },
  {
   "cell_type": "markdown",
   "metadata": {},
   "source": [
    "**<table><font color = #ABB2B9>最后看一下时间格式没问题，开始进行下个处理</font></table>**"
   ]
  },
  {
   "cell_type": "markdown",
   "metadata": {},
   "source": [
    "<table><font color=#E59866 size = 3 face=\"黑体\">\n",
    "字段：job_deadline\n",
    "<br>\n",
    "数据样例：‘2011-04-14’\n",
    "<br>\n",
    "期望时间格式：xxxx-xx-xx\n",
    "<br>\n",
    "处理思路: 直接转换格式</font></table>"
   ]
  },
  {
   "cell_type": "code",
   "execution_count": 147,
   "metadata": {},
   "outputs": [
    {
     "data": {
      "text/plain": [
       "311    2018-04-11\n",
       "98     2018-04-02\n",
       "970    2023-09-09\n",
       "Name: job_deadline, dtype: object"
      ]
     },
     "execution_count": 147,
     "metadata": {},
     "output_type": "execute_result"
    }
   ],
   "source": [
    "#第一步：看下数据样例\n",
    "data_clean['job_deadline'].sample(3)"
   ]
  },
  {
   "cell_type": "code",
   "execution_count": 151,
   "metadata": {},
   "outputs": [
    {
     "data": {
      "text/plain": [
       "0   2018-04-13\n",
       "1   2020-12-31\n",
       "2   2018-03-31\n",
       "3   2018-04-02\n",
       "4   2018-04-05\n",
       "Name: job_deadline, dtype: datetime64[ns]"
      ]
     },
     "execution_count": 151,
     "metadata": {},
     "output_type": "execute_result"
    }
   ],
   "source": [
    "#第二步：转换格式\n",
    "data_clean['job_deadline'] = pd.to_datetime(data_clean['job_deadline'])\n",
    "data_clean['job_deadline'].head()"
   ]
  },
  {
   "cell_type": "markdown",
   "metadata": {},
   "source": [
    "<table><font color=#E59866 size = 3 face=\"黑体\">\n",
    "字段：update_time\n",
    "<br>\n",
    "数据样例：‘2011-04-14’\n",
    "<br>\n",
    "期望时间格式：xxxx-xx-xx hhmmss\n",
    "<br>\n",
    "处理思路: 直接转换格式</font></table>"
   ]
  },
  {
   "cell_type": "code",
   "execution_count": 168,
   "metadata": {},
   "outputs": [
    {
     "data": {
      "text/plain": [
       "345    2018-03-22 15:11:23\n",
       "483    2018-03-21 13:40:48\n",
       "745    2018-03-15 11:07:34\n",
       "Name: update_time, dtype: object"
      ]
     },
     "execution_count": 168,
     "metadata": {},
     "output_type": "execute_result"
    }
   ],
   "source": [
    "#第一步：看下数据样例\n",
    "data_clean['update_time'].sample(3)"
   ]
  },
  {
   "cell_type": "code",
   "execution_count": 169,
   "metadata": {},
   "outputs": [
    {
     "data": {
      "text/plain": [
       "0   2018-03-21 10:48:06\n",
       "1   2018-03-21 10:37:22\n",
       "2   2018-03-21 10:23:45\n",
       "3   2018-03-21 10:22:52\n",
       "4   2018-03-21 10:18:57\n",
       "Name: update_time, dtype: datetime64[ns]"
      ]
     },
     "execution_count": 169,
     "metadata": {},
     "output_type": "execute_result"
    }
   ],
   "source": [
    "#第二步：转换格式\n",
    "data_clean['update_time'] = pd.to_datetime(data_clean['update_time'])\n",
    "data_clean['update_time'].head()"
   ]
  },
  {
   "cell_type": "markdown",
   "metadata": {},
   "source": [
    "**<table><font color = #ABB2B9>时间类型的字段我们就到此处理结束啦～～，让我们来看一下我们处理过后的几个字段长啥样</font></table>**"
   ]
  },
  {
   "cell_type": "code",
   "execution_count": 170,
   "metadata": {},
   "outputs": [
    {
     "data": {
      "text/html": [
       "<div>\n",
       "<style scoped>\n",
       "    .dataframe tbody tr th:only-of-type {\n",
       "        vertical-align: middle;\n",
       "    }\n",
       "\n",
       "    .dataframe tbody tr th {\n",
       "        vertical-align: top;\n",
       "    }\n",
       "\n",
       "    .dataframe thead th {\n",
       "        text-align: right;\n",
       "    }\n",
       "</style>\n",
       "<table border=\"1\" class=\"dataframe\">\n",
       "  <thead>\n",
       "    <tr style=\"text-align: right;\">\n",
       "      <th></th>\n",
       "      <th>est_date</th>\n",
       "      <th>job_deadline</th>\n",
       "      <th>update_time</th>\n",
       "    </tr>\n",
       "  </thead>\n",
       "  <tbody>\n",
       "    <tr>\n",
       "      <th>0</th>\n",
       "      <td>2004-12-07</td>\n",
       "      <td>2018-04-13</td>\n",
       "      <td>2018-03-21 10:48:06</td>\n",
       "    </tr>\n",
       "    <tr>\n",
       "      <th>1</th>\n",
       "      <td>1995-09-22</td>\n",
       "      <td>2020-12-31</td>\n",
       "      <td>2018-03-21 10:37:22</td>\n",
       "    </tr>\n",
       "    <tr>\n",
       "      <th>2</th>\n",
       "      <td>2002-10-15</td>\n",
       "      <td>2018-03-31</td>\n",
       "      <td>2018-03-21 10:23:45</td>\n",
       "    </tr>\n",
       "    <tr>\n",
       "      <th>3</th>\n",
       "      <td>2000-01-18</td>\n",
       "      <td>2018-04-02</td>\n",
       "      <td>2018-03-21 10:22:52</td>\n",
       "    </tr>\n",
       "    <tr>\n",
       "      <th>4</th>\n",
       "      <td>2000-01-18</td>\n",
       "      <td>2018-04-05</td>\n",
       "      <td>2018-03-21 10:18:57</td>\n",
       "    </tr>\n",
       "  </tbody>\n",
       "</table>\n",
       "</div>"
      ],
      "text/plain": [
       "    est_date job_deadline         update_time\n",
       "0 2004-12-07   2018-04-13 2018-03-21 10:48:06\n",
       "1 1995-09-22   2020-12-31 2018-03-21 10:37:22\n",
       "2 2002-10-15   2018-03-31 2018-03-21 10:23:45\n",
       "3 2000-01-18   2018-04-02 2018-03-21 10:22:52\n",
       "4 2000-01-18   2018-04-05 2018-03-21 10:18:57"
      ]
     },
     "execution_count": 170,
     "metadata": {},
     "output_type": "execute_result"
    }
   ],
   "source": [
    "data_check = pd.DataFrame({'est_date':data_clean['est_date'], 'job_deadline':data_clean['job_deadline'], 'update_time':data_clean['update_time']})\n",
    "data_check.head()"
   ]
  },
  {
   "cell_type": "markdown",
   "metadata": {},
   "source": [
    "--------------------------------------------------字符型数据处理----------------------------------------------------"
   ]
  },
  {
   "cell_type": "markdown",
   "metadata": {},
   "source": [
    "<table><font color=#E59866 size = 3 face=\"黑体\">\n",
    "字段：city\n",
    "<br>\n",
    "数据样例：‘成都市’\n",
    "<br>\n",
    "期望：'成都'\n",
    "<br>\n",
    "处理思路: 部分数据需要处理一下， 直接赋值处理</font></table>"
   ]
  },
  {
   "cell_type": "code",
   "execution_count": 171,
   "metadata": {},
   "outputs": [
    {
     "data": {
      "text/plain": [
       "597    北京\n",
       "17     北京\n",
       "68     广州\n",
       "Name: city, dtype: object"
      ]
     },
     "execution_count": 171,
     "metadata": {},
     "output_type": "execute_result"
    }
   ],
   "source": [
    "#第一步：看下数据样例\n",
    "data_clean['city'].sample(3)"
   ]
  },
  {
   "cell_type": "code",
   "execution_count": 172,
   "metadata": {},
   "outputs": [
    {
     "data": {
      "text/plain": [
       "array(['北京', '上海', '广州', nan, '南京', '深圳', '宁波', '杭州', '西安', '成都', '合肥',\n",
       "       '珠海市', '其他', '重庆', '武汉', '无锡', '天津', '珠海 深圳', '长沙', '厦门', '珠海',\n",
       "       '济南', '香港', '苏州', '上海漕河泾开发区', '晋江', '东莞', '成都市', '大连', '福州', '沈阳'],\n",
       "      dtype=object)"
      ]
     },
     "execution_count": 172,
     "metadata": {},
     "output_type": "execute_result"
    }
   ],
   "source": [
    "#第一步：看下去重后的数据\n",
    "data_clean['city'].unique()"
   ]
  },
  {
   "cell_type": "code",
   "execution_count": 173,
   "metadata": {},
   "outputs": [],
   "source": [
    "#第二步：赋值处理\n",
    "data_clean.loc[data_clean['city'] == '成都市', 'city'] = '成都'\n",
    "data_clean.loc[data_clean['city'].isin(['珠海市','珠海 深圳']), 'city'] = '珠海'\n",
    "data_clean.loc[data_clean['city'] == '上海漕河泾开发区','city'] = '上海'"
   ]
  },
  {
   "cell_type": "code",
   "execution_count": 174,
   "metadata": {},
   "outputs": [
    {
     "data": {
      "text/plain": [
       "array(['北京', '上海', '广州', nan, '南京', '深圳', '宁波', '杭州', '西安', '成都', '合肥',\n",
       "       '珠海', '其他', '重庆', '武汉', '无锡', '天津', '长沙', '厦门', '济南', '香港', '苏州',\n",
       "       '晋江', '东莞', '大连', '福州', '沈阳'], dtype=object)"
      ]
     },
     "execution_count": 174,
     "metadata": {},
     "output_type": "execute_result"
    }
   ],
   "source": [
    "#第三步：检查一下\n",
    "data_clean['city'].unique()"
   ]
  },
  {
   "cell_type": "markdown",
   "metadata": {},
   "source": [
    "<table><font color=#E59866 size = 3 face=\"黑体\">\n",
    "字段：com_class 公司及企业类\n",
    "<br>\n",
    "数据样例：‘公司类型：股份有限公司(上市)’\n",
    "<br>\n",
    "处理思路: \n",
    "<br>\n",
    "把数据份为这些类：股份有限公司（未上市）’、‘股份有限公司（上市）’、‘有限责任公司’、‘外商投资公司’、‘有限合伙企业’、‘国有企业’</font></table>"
   ]
  },
  {
   "cell_type": "code",
   "execution_count": 177,
   "metadata": {},
   "outputs": [
    {
     "data": {
      "text/plain": [
       "0    公司类型：有限责任公司(台港澳法人独资)\n",
       "1         公司类型：股份有限公司(上市)\n",
       "2    公司类型：有限责任公司(台港澳法人独资)\n",
       "3     公司类型：有限责任公司(外国法人独资)\n",
       "4     公司类型：有限责任公司(外国法人独资)\n",
       "Name: com_class, dtype: object"
      ]
     },
     "execution_count": 177,
     "metadata": {},
     "output_type": "execute_result"
    }
   ],
   "source": [
    "#第一步：查看一下数据\n",
    "data['com_class'].head()"
   ]
  },
  {
   "cell_type": "code",
   "execution_count": 176,
   "metadata": {
    "scrolled": true
   },
   "outputs": [
    {
     "data": {
      "text/plain": [
       "['公司类型：有限责任公司(台港澳法人独资)',\n",
       " '公司类型：股份有限公司(上市)',\n",
       " '公司类型：有限责任公司(外国法人独资)',\n",
       " nan,\n",
       " '公司类型：有限责任公司',\n",
       " '公司类型：有限责任公司（法人独资）',\n",
       " '公司类型：其他有限责任公司',\n",
       " ' ',\n",
       " '公司类型：其他股份有限公司(非上市)',\n",
       " '公司类型：有限责任公司(中外合资)',\n",
       " '公司类型：有限责任公司(自然人投资或控股)',\n",
       " '公司类型：有限责任公司(自然人独资)',\n",
       " '公司类型：有限责任公司（自然人投资或控股）',\n",
       " '公司类型：有限责任公司(法人独资)',\n",
       " '公司类型：有限责任公司分公司（自然人独资）',\n",
       " '公司类型：股份有限公司(中外合资、上市)',\n",
       " '公司类型：有限责任公司（台港澳法人独资）',\n",
       " '公司类型：有限责任公司\\n',\n",
       " '公司类型：有限责任公司（自然人独资）',\n",
       " '公司类型：有限责任公司（自然人投资或控股的法人独资）',\n",
       " '公司类型：股份有限公司(非上市、自然人投资或控股)',\n",
       " '公司类型：有限责任公司(台港澳与境内合资)',\n",
       " '公司类型：无',\n",
       " '公司类型：股份有限公司分公司(上市、国有控股)',\n",
       " '公司类型：私营有限责任公司(自然人控股或私营性质企业控股)',\n",
       " '公司类型：全民所有制',\n",
       " '公司类型：有限责任公司（外国法人独资）',\n",
       " '公司类型：股份有限公司(非上市)',\n",
       " '公司类型：股份有限公司(上市、自然人投资或控股)',\n",
       " '公司类型：股份有限公司(台港澳与境内合资、上市)',\n",
       " '公司类型：其他股份有限公司(上市)',\n",
       " '公司类型：有限责任公司分公司（非自然人投资或控股的法人独资）',\n",
       " '公司类型：其他股份有限公司（上市）',\n",
       " '公司类型：有限责任公司（非自然人投资或控股的法人独资）',\n",
       " '公司类型：股份有限公司',\n",
       " '公司类型：非上市股份有限公司',\n",
       " '公司类型：分公司',\n",
       " '公司类型：股份有限公司（上市、自然人投资或控股）',\n",
       " '公司类型：有限合伙',\n",
       " '公司类型：外商投资公司分公司',\n",
       " '公司类型：有限责任公司(台港澳与外国投资者合资)',\n",
       " '公司类型：股份有限公司（非上市）',\n",
       " '公司类型：有限责任公司(外商投资企业法人独资)',\n",
       " '公司类型：上市股份有限公司',\n",
       " '公司类型：股份有限公司(台港澳与境内合资、未上市)',\n",
       " '公司类型：股份有限公司（非上市、自然人投资或控股）',\n",
       " '公司类型：股份有限公司（台港澳与境内合资、未上市）',\n",
       " '公司类型：股份有限公司(中外合资、未上市)']"
      ]
     },
     "execution_count": 176,
     "metadata": {},
     "output_type": "execute_result"
    }
   ],
   "source": [
    "#第二步：查看数据的枚举值   --- 以列表形式展示\n",
    "list(data['com_class'].unique())"
   ]
  },
  {
   "cell_type": "code",
   "execution_count": 179,
   "metadata": {},
   "outputs": [],
   "source": [
    "#第二步：定义判断是否为nan函数\n",
    "def isfloat(value):\n",
    "    try:\n",
    "        float(value)\n",
    "        return True\n",
    "    except ValueError:\n",
    "        return False\n",
    "#第三步：定义拆分函数\n",
    "def get_com_type(string):\n",
    "    if string is None:        #大大坑！！！！！这个错误的罪魁祸首-》》》》》 argument of type 'NoneType' is not iterable\n",
    "        return np.nan\n",
    "    if isfloat(string):      #大大坑！！！！！NaN是float格式！！！这个错误的罪魁祸首-》》》》》TypeError: argument of type 'float' is not iterable\n",
    "        return np.nan\n",
    "    if ('非上市' in string) or ('未上市' in string):\n",
    "        return '股份有限公司（未上市）'\n",
    "    elif '股份' in string:\n",
    "        return '股份有限公司（上市）'\n",
    "    elif '责任' in string:\n",
    "        return '有限责任公司'\n",
    "    elif '外商投资' in string:\n",
    "        return '外商投资公司'\n",
    "    elif '有限合伙' in string:\n",
    "        return '有限合伙企业'\n",
    "    elif '全民所有' in string:\n",
    "        return '国有企业'\n",
    "    else:\n",
    "        return np.nan"
   ]
  },
  {
   "cell_type": "code",
   "execution_count": 180,
   "metadata": {},
   "outputs": [
    {
     "data": {
      "text/html": [
       "<div>\n",
       "<style scoped>\n",
       "    .dataframe tbody tr th:only-of-type {\n",
       "        vertical-align: middle;\n",
       "    }\n",
       "\n",
       "    .dataframe tbody tr th {\n",
       "        vertical-align: top;\n",
       "    }\n",
       "\n",
       "    .dataframe thead th {\n",
       "        text-align: right;\n",
       "    }\n",
       "</style>\n",
       "<table border=\"1\" class=\"dataframe\">\n",
       "  <thead>\n",
       "    <tr style=\"text-align: right;\">\n",
       "      <th></th>\n",
       "      <th>0</th>\n",
       "      <th>1</th>\n",
       "      <th>com_class</th>\n",
       "    </tr>\n",
       "  </thead>\n",
       "  <tbody>\n",
       "    <tr>\n",
       "      <th>502</th>\n",
       "      <td>公司类型</td>\n",
       "      <td>其他有限责任公司</td>\n",
       "      <td>有限责任公司</td>\n",
       "    </tr>\n",
       "    <tr>\n",
       "      <th>489</th>\n",
       "      <td>公司类型</td>\n",
       "      <td>有限责任公司</td>\n",
       "      <td>有限责任公司</td>\n",
       "    </tr>\n",
       "    <tr>\n",
       "      <th>416</th>\n",
       "      <td>公司类型</td>\n",
       "      <td>有限责任公司</td>\n",
       "      <td>有限责任公司</td>\n",
       "    </tr>\n",
       "    <tr>\n",
       "      <th>23</th>\n",
       "      <td>公司类型</td>\n",
       "      <td>其他有限责任公司</td>\n",
       "      <td>有限责任公司</td>\n",
       "    </tr>\n",
       "    <tr>\n",
       "      <th>555</th>\n",
       "      <td>公司类型</td>\n",
       "      <td>有限责任公司(外国法人独资)</td>\n",
       "      <td>有限责任公司</td>\n",
       "    </tr>\n",
       "  </tbody>\n",
       "</table>\n",
       "</div>"
      ],
      "text/plain": [
       "        0               1 com_class\n",
       "502  公司类型        其他有限责任公司    有限责任公司\n",
       "489  公司类型          有限责任公司    有限责任公司\n",
       "416  公司类型          有限责任公司    有限责任公司\n",
       "23   公司类型        其他有限责任公司    有限责任公司\n",
       "555  公司类型  有限责任公司(外国法人独资)    有限责任公司"
      ]
     },
     "execution_count": 180,
     "metadata": {},
     "output_type": "execute_result"
    }
   ],
   "source": [
    "#第四步：拆分字段数据，并保存\n",
    "com_class = data['com_class'].str.split('：', expand = True)  #实例数据： 公司类型：有限责任公司(台港澳法人独资)\n",
    "com_class['com_class'] = com_class[1].apply(get_com_type)     #调用函数，统一数据\n",
    "com_class.sample(5)"
   ]
  },
  {
   "cell_type": "code",
   "execution_count": 184,
   "metadata": {},
   "outputs": [
    {
     "data": {
      "text/plain": [
       "array(['有限责任公司', '股份有限公司（上市）', nan, '股份有限公司（未上市）', '国有企业', '有限合伙企业',\n",
       "       '外商投资公司'], dtype=object)"
      ]
     },
     "execution_count": 184,
     "metadata": {},
     "output_type": "execute_result"
    }
   ],
   "source": [
    "#把com_class列的数据存入data_clean中\n",
    "data_clean['com_class'] = com_class['com_class']\n",
    "data_clean['com_class'].unique()"
   ]
  },
  {
   "cell_type": "markdown",
   "metadata": {},
   "source": [
    "--------------------------------------------------特殊处理方式字符数据处理----------------------------------------------------"
   ]
  },
  {
   "cell_type": "markdown",
   "metadata": {},
   "source": [
    "<table><font color=#E59866 size = 3 face=\"黑体\">\n",
    "字段：released_time (发布时间)\n",
    "<br>\n",
    "数据样例：‘2小时前’\n",
    "<br>\n",
    "数据特点：\n",
    "<br>\n",
    "该字段1小时内的都以分钟表示、\n",
    "<br>\n",
    "1小时-2天内的都以小时表示、\n",
    "<br>\n",
    "2天-1周内的都以天表示，\n",
    "<br>\n",
    "1周-1个月内的都以周表示\n",
    "<br>\n",
    "<br>\n",
    "处理思路：数据聚合一下\n",
    "<br>\n",
    "可以考虑清洗成：2天以内是最新的（newest），\n",
    "<br>\n",
    "2天-1周是新的（new），\n",
    "<br>\n",
    "1周-1个月是可以投简历的（acceptable），\n",
    "<br>\n",
    "1个月以上的是旧的（old）</font></table>"
   ]
  },
  {
   "cell_type": "code",
   "execution_count": 152,
   "metadata": {},
   "outputs": [
    {
     "data": {
      "text/plain": [
       "367    4小时前\n",
       "590     2天前\n",
       "361    2小时前\n",
       "Name: released_time, dtype: object"
      ]
     },
     "execution_count": 152,
     "metadata": {},
     "output_type": "execute_result"
    }
   ],
   "source": [
    "#第一步：看下数据样例\n",
    "data_clean['released_time'].sample(3)"
   ]
  },
  {
   "cell_type": "code",
   "execution_count": 153,
   "metadata": {},
   "outputs": [
    {
     "data": {
      "text/plain": [
       "array(['7分钟前', '18分钟前', '32分钟前', '36分钟前', '38分钟前', '1小时前', '2小时前',\n",
       "       '12小时前', '13小时前', '16小时前', '17小时前', '18小时前', '19小时前', '20小时前',\n",
       "       '21小时前', '22小时前', '23小时前', '24小时前', '25小时前', '36小时前', '39小时前',\n",
       "       '41小时前', '42小时前', '43小时前', '44小时前', '45小时前', '46小时前', '47小时前',\n",
       "       '2天前', '3天前', '4天前', '5天前', '6天前', '7天前', '1周前', '2周前', '3周前',\n",
       "       '4周前', '1月前', '2月前', '3月前', '6月前', '9月前', '4分钟前', '5分钟前', '6分钟前',\n",
       "       '11小时前', '4月前', '30分钟前', '51分钟前', '52分钟前', '3小时前', '4小时前', '5小时前',\n",
       "       '6小时前', '7小时前', '26小时前', '27小时前', '28小时前', '29小时前', '30小时前',\n",
       "       '31小时前', '5月前', '7月前'], dtype=object)"
      ]
     },
     "execution_count": 153,
     "metadata": {},
     "output_type": "execute_result"
    }
   ],
   "source": [
    "#第二步：看下数据去重后的数据\n",
    "data_clean['released_time'].unique()"
   ]
  },
  {
   "cell_type": "code",
   "execution_count": 163,
   "metadata": {},
   "outputs": [],
   "source": [
    "#第三步：正则处理数据，把数字后和‘前’之前的数据取出来\n",
    "relased_time = data_clean['released_time'].str.extract('[0-9]+(\\w+)前', expand = False)"
   ]
  },
  {
   "cell_type": "code",
   "execution_count": 164,
   "metadata": {},
   "outputs": [
    {
     "data": {
      "text/plain": [
       "array(['分钟', '小时', '天', '周', '月'], dtype=object)"
      ]
     },
     "execution_count": 164,
     "metadata": {},
     "output_type": "execute_result"
    }
   ],
   "source": [
    "#第四步：看下去重后数据是否正确\n",
    "data_clean['released_time'].str.extract('[0-9]+(\\w+)前', expand = False).unique()"
   ]
  },
  {
   "cell_type": "code",
   "execution_count": 167,
   "metadata": {},
   "outputs": [
    {
     "data": {
      "text/plain": [
       "970       old\n",
       "231       old\n",
       "671       new\n",
       "439    newest\n",
       "418    newest\n",
       "Name: released_time, dtype: object"
      ]
     },
     "execution_count": 167,
     "metadata": {},
     "output_type": "execute_result"
    }
   ],
   "source": [
    "#第五步：map映射聚合一下\n",
    "data_clean['released_time'] = relased_time.map({'分钟':'newest','小时':'newest','天':'new','周':'acceptable','月':'old'})\n",
    "data_clean['released_time'].sample(5)"
   ]
  },
  {
   "cell_type": "markdown",
   "metadata": {},
   "source": [
    "<table><font color=#E59866 size = 3 face=\"黑体\">\n",
    "字段：num_employee\n",
    "<br>\n",
    "数据样例：‘2000人以上’\n",
    "<br>\n",
    "处理思路: 把数据做一个逻辑上的聚合\n",
    "<br>\n",
    "'少于15人'、'15-50人'、'50-150人'都记为'小型企业',\n",
    "<br>\n",
    "'150-500人'、'500-2000人'记为'中型企业'，\n",
    "<br>\n",
    "'2000人以上'、'5000人以上'记为大型企业</font></table>"
   ]
  },
  {
   "cell_type": "code",
   "execution_count": 102,
   "metadata": {},
   "outputs": [
    {
     "data": {
      "text/plain": [
       "543    2000人以上\n",
       "338     15-50人\n",
       "136    2000人以上\n",
       "Name: num_employee, dtype: object"
      ]
     },
     "execution_count": 102,
     "metadata": {},
     "output_type": "execute_result"
    }
   ],
   "source": [
    "#第一步：看下day_per_week的数据样例\n",
    "data_clean['num_employee'].sample(3)"
   ]
  },
  {
   "cell_type": "code",
   "execution_count": 103,
   "metadata": {},
   "outputs": [
    {
     "data": {
      "text/plain": [
       "array(['2000人以上', '500-2000人', nan, '50-150人', '15-50人', '150-500人',\n",
       "       '少于15人', '5000人以上'], dtype=object)"
      ]
     },
     "execution_count": 103,
     "metadata": {},
     "output_type": "execute_result"
    }
   ],
   "source": [
    "#第二步，看下去重后的数据\n",
    "data_clean.num_employee.unique() #查看下该字段先有哪些数据（不重复的）"
   ]
  },
  {
   "cell_type": "code",
   "execution_count": 104,
   "metadata": {},
   "outputs": [],
   "source": [
    "#第三步，直接赋值,用loc定位数据的行，列  ----》通过标签的label的形式选取数据---loc\n",
    "data_clean.loc[data['num_employee'] == '少于15人', 'num_employee'] = '小型公司'\n",
    "data_clean.loc[data['num_employee'] == '15-50人', 'num_employee'] = '小型公司'\n",
    "data_clean.loc[data['num_employee'] == '50-150人', 'num_employee'] = '小型公司'\n",
    "data_clean.loc[data['num_employee'] == '150-500人', 'num_employee'] = '中型公司'\n",
    "data_clean.loc[data['num_employee'] == '500-2000人', 'num_employee' ] = '中型公司'\n",
    "data_clean.loc[data['num_employee'] == '2000人以上', 'num_employee' ] = '大型公司'\n",
    "data_clean.loc[data['num_employee'] == '5000人以上', 'num_employee' ] = '大型公司'"
   ]
  },
  {
   "cell_type": "code",
   "execution_count": 106,
   "metadata": {},
   "outputs": [
    {
     "data": {
      "text/plain": [
       "200    大型公司\n",
       "766    大型公司\n",
       "516    中型公司\n",
       "Name: num_employee, dtype: object"
      ]
     },
     "execution_count": 106,
     "metadata": {},
     "output_type": "execute_result"
    }
   ],
   "source": [
    "#第四步，最后我们再来看下我们处理的数据\n",
    "data_clean['num_employee'].sample(3)"
   ]
  },
  {
   "cell_type": "markdown",
   "metadata": {},
   "source": [
    "<table><td bgcolor=#EAFAF align=\"left\"><font color=#0099ff size = 3 face=\"黑体\">至此，我们所有相关字段就处理完了，我们来整体看下处理后的数据类型以及数据样例<font></td></table>"
   ]
  },
  {
   "cell_type": "code",
   "execution_count": 185,
   "metadata": {},
   "outputs": [
    {
     "name": "stdout",
     "output_type": "stream",
     "text": [
      "<class 'pandas.core.frame.DataFrame'>\n",
      "Int64Index: 878 entries, 0 to 977\n",
      "Data columns (total 22 columns):\n",
      "auth_capital     639 non-null float64\n",
      "city             874 non-null object\n",
      "com_class        794 non-null object\n",
      "com_fullname     874 non-null object\n",
      "com_intro        874 non-null object\n",
      "com_logo         874 non-null object\n",
      "com_name         874 non-null object\n",
      "com_welfare      878 non-null object\n",
      "day_per_week     878 non-null int64\n",
      "est_date         788 non-null datetime64[ns]\n",
      "industry         862 non-null object\n",
      "job_academic     878 non-null object\n",
      "job_deadline     878 non-null datetime64[ns]\n",
      "job_links        878 non-null object\n",
      "job_title        878 non-null object\n",
      "num_employee     872 non-null object\n",
      "released_time    878 non-null object\n",
      "tag              878 non-null object\n",
      "time_span        878 non-null int64\n",
      "update_time      878 non-null datetime64[ns]\n",
      "wage             878 non-null object\n",
      "avg_wage         878 non-null float64\n",
      "dtypes: datetime64[ns](3), float64(2), int64(2), object(15)\n",
      "memory usage: 197.8+ KB\n"
     ]
    }
   ],
   "source": [
    "data_clean.info()"
   ]
  },
  {
   "cell_type": "code",
   "execution_count": 186,
   "metadata": {},
   "outputs": [
    {
     "data": {
      "text/html": [
       "<div>\n",
       "<style scoped>\n",
       "    .dataframe tbody tr th:only-of-type {\n",
       "        vertical-align: middle;\n",
       "    }\n",
       "\n",
       "    .dataframe tbody tr th {\n",
       "        vertical-align: top;\n",
       "    }\n",
       "\n",
       "    .dataframe thead th {\n",
       "        text-align: right;\n",
       "    }\n",
       "</style>\n",
       "<table border=\"1\" class=\"dataframe\">\n",
       "  <thead>\n",
       "    <tr style=\"text-align: right;\">\n",
       "      <th></th>\n",
       "      <th>auth_capital</th>\n",
       "      <th>city</th>\n",
       "      <th>com_class</th>\n",
       "      <th>com_fullname</th>\n",
       "      <th>com_intro</th>\n",
       "      <th>com_logo</th>\n",
       "      <th>com_name</th>\n",
       "      <th>com_welfare</th>\n",
       "      <th>day_per_week</th>\n",
       "      <th>est_date</th>\n",
       "      <th>...</th>\n",
       "      <th>job_deadline</th>\n",
       "      <th>job_links</th>\n",
       "      <th>job_title</th>\n",
       "      <th>num_employee</th>\n",
       "      <th>released_time</th>\n",
       "      <th>tag</th>\n",
       "      <th>time_span</th>\n",
       "      <th>update_time</th>\n",
       "      <th>wage</th>\n",
       "      <th>avg_wage</th>\n",
       "    </tr>\n",
       "  </thead>\n",
       "  <tbody>\n",
       "    <tr>\n",
       "      <th>216</th>\n",
       "      <td>NaN</td>\n",
       "      <td>武汉</td>\n",
       "      <td>有限责任公司</td>\n",
       "      <td>北京明日时尚信息技术有限公司武汉分公司</td>\n",
       "      <td>10人创造年税后纯利润5600万的神话就发生在这里</td>\n",
       "      <td>https://sxsimg.xiaoyuanzhao.com/BF/3D/BF588C6E...</td>\n",
       "      <td>明日数据</td>\n",
       "      <td>['团体活动', '近地铁站', '与成功者为伴', '1对1导师制', '零食餐补']</td>\n",
       "      <td>4</td>\n",
       "      <td>2017-07-18</td>\n",
       "      <td>...</td>\n",
       "      <td>2018-04-30</td>\n",
       "      <td>https://www.shixiseng.com/intern/inn_bzpgl39l7d6x</td>\n",
       "      <td>爬虫工程师</td>\n",
       "      <td>小型公司</td>\n",
       "      <td>acceptable</td>\n",
       "      <td>数据挖掘</td>\n",
       "      <td>10</td>\n",
       "      <td>2018-02-26 10:56:43</td>\n",
       "      <td>50-100/天</td>\n",
       "      <td>75.0</td>\n",
       "    </tr>\n",
       "    <tr>\n",
       "      <th>320</th>\n",
       "      <td>102887.87</td>\n",
       "      <td>上海</td>\n",
       "      <td>有限责任公司</td>\n",
       "      <td>博世（中国）投资有限公司</td>\n",
       "      <td>世界500强，汽车行业一级供应商</td>\n",
       "      <td>https://sxsimg.xiaoyuanzhao.com/64/0E/64451C5C...</td>\n",
       "      <td>博世</td>\n",
       "      <td>[]</td>\n",
       "      <td>3</td>\n",
       "      <td>1999-01-11</td>\n",
       "      <td>...</td>\n",
       "      <td>2018-04-04</td>\n",
       "      <td>https://www.shixiseng.com/intern/inn_upifv1jbbyy2</td>\n",
       "      <td>机器学习算法研发（实习生）</td>\n",
       "      <td>大型公司</td>\n",
       "      <td>acceptable</td>\n",
       "      <td>算法</td>\n",
       "      <td>6</td>\n",
       "      <td>2018-03-05 11:15:10</td>\n",
       "      <td>115-145/天</td>\n",
       "      <td>130.0</td>\n",
       "    </tr>\n",
       "    <tr>\n",
       "      <th>398</th>\n",
       "      <td>53760.00</td>\n",
       "      <td>杭州</td>\n",
       "      <td>股份有限公司（上市）</td>\n",
       "      <td>浙江核新同花顺网络信息股份有限公司</td>\n",
       "      <td>中国证券信息服务业的第一家上市公司，互联网金融上市公司</td>\n",
       "      <td>https://sxsimg.xiaoyuanzhao.com/3C/E6/3C3AE769...</td>\n",
       "      <td>同花顺</td>\n",
       "      <td>['人工智能', '给力的薪酬', '实习留任', '每年加薪', '锻炼自我', '互联网...</td>\n",
       "      <td>5</td>\n",
       "      <td>2001-08-24</td>\n",
       "      <td>...</td>\n",
       "      <td>2018-06-30</td>\n",
       "      <td>https://www.shixiseng.com/intern/inn_lqvz1fydon8m</td>\n",
       "      <td>算法实习生</td>\n",
       "      <td>大型公司</td>\n",
       "      <td>newest</td>\n",
       "      <td>算法</td>\n",
       "      <td>4</td>\n",
       "      <td>2018-03-22 09:46:56</td>\n",
       "      <td>120-220/天</td>\n",
       "      <td>170.0</td>\n",
       "    </tr>\n",
       "    <tr>\n",
       "      <th>157</th>\n",
       "      <td>NaN</td>\n",
       "      <td>上海</td>\n",
       "      <td>NaN</td>\n",
       "      <td>上海壹亩金融信息 服务有限公司</td>\n",
       "      <td>“同业云”平台的开发和运营主体</td>\n",
       "      <td>https://sxsimg.xiaoyuanzhao.com/A4/FA/A436BE60...</td>\n",
       "      <td>同业云</td>\n",
       "      <td>[]</td>\n",
       "      <td>3</td>\n",
       "      <td>NaT</td>\n",
       "      <td>...</td>\n",
       "      <td>2018-04-30</td>\n",
       "      <td>https://www.shixiseng.com/intern/inn_wqxpazsy7ukk</td>\n",
       "      <td>数据挖掘/统计实习生</td>\n",
       "      <td>小型公司</td>\n",
       "      <td>new</td>\n",
       "      <td>软件</td>\n",
       "      <td>3</td>\n",
       "      <td>2018-03-13 16:43:33</td>\n",
       "      <td>200-250/天</td>\n",
       "      <td>225.0</td>\n",
       "    </tr>\n",
       "    <tr>\n",
       "      <th>127</th>\n",
       "      <td>35349.80</td>\n",
       "      <td>上海</td>\n",
       "      <td>有限责任公司</td>\n",
       "      <td>飞利浦（中国）投资有限公司</td>\n",
       "      <td>利浦是个综合性大集团，通过以下三个交叉部门为专业市场和消费市场提供服务：医疗保健、照明和优质生活。</td>\n",
       "      <td>https://sxsimg.xiaoyuanzhao.com/A1/2B/A109F721...</td>\n",
       "      <td>飞利浦</td>\n",
       "      <td>[]</td>\n",
       "      <td>3</td>\n",
       "      <td>1990-08-08</td>\n",
       "      <td>...</td>\n",
       "      <td>2018-04-11</td>\n",
       "      <td>https://www.shixiseng.com/intern/inn_ifjawjygksmn</td>\n",
       "      <td>数据挖掘实习生</td>\n",
       "      <td>大型公司</td>\n",
       "      <td>new</td>\n",
       "      <td>数据挖掘</td>\n",
       "      <td>5</td>\n",
       "      <td>2018-03-16 20:55:31</td>\n",
       "      <td>120-170/天</td>\n",
       "      <td>145.0</td>\n",
       "    </tr>\n",
       "  </tbody>\n",
       "</table>\n",
       "<p>5 rows × 22 columns</p>\n",
       "</div>"
      ],
      "text/plain": [
       "     auth_capital city   com_class         com_fullname  \\\n",
       "216           NaN   武汉      有限责任公司  北京明日时尚信息技术有限公司武汉分公司   \n",
       "320     102887.87   上海      有限责任公司         博世（中国）投资有限公司   \n",
       "398      53760.00   杭州  股份有限公司（上市）    浙江核新同花顺网络信息股份有限公司   \n",
       "157           NaN   上海         NaN      上海壹亩金融信息 服务有限公司   \n",
       "127      35349.80   上海      有限责任公司        飞利浦（中国）投资有限公司   \n",
       "\n",
       "                                             com_intro  \\\n",
       "216                          10人创造年税后纯利润5600万的神话就发生在这里   \n",
       "320                                   世界500强，汽车行业一级供应商   \n",
       "398                        中国证券信息服务业的第一家上市公司，互联网金融上市公司   \n",
       "157                                    “同业云”平台的开发和运营主体   \n",
       "127  利浦是个综合性大集团，通过以下三个交叉部门为专业市场和消费市场提供服务：医疗保健、照明和优质生活。   \n",
       "\n",
       "                                              com_logo com_name  \\\n",
       "216  https://sxsimg.xiaoyuanzhao.com/BF/3D/BF588C6E...     明日数据   \n",
       "320  https://sxsimg.xiaoyuanzhao.com/64/0E/64451C5C...       博世   \n",
       "398  https://sxsimg.xiaoyuanzhao.com/3C/E6/3C3AE769...      同花顺   \n",
       "157  https://sxsimg.xiaoyuanzhao.com/A4/FA/A436BE60...      同业云   \n",
       "127  https://sxsimg.xiaoyuanzhao.com/A1/2B/A109F721...      飞利浦   \n",
       "\n",
       "                                           com_welfare  day_per_week  \\\n",
       "216       ['团体活动', '近地铁站', '与成功者为伴', '1对1导师制', '零食餐补']             4   \n",
       "320                                                 []             3   \n",
       "398  ['人工智能', '给力的薪酬', '实习留任', '每年加薪', '锻炼自我', '互联网...             5   \n",
       "157                                                 []             3   \n",
       "127                                                 []             3   \n",
       "\n",
       "      est_date   ...    job_deadline  \\\n",
       "216 2017-07-18   ...      2018-04-30   \n",
       "320 1999-01-11   ...      2018-04-04   \n",
       "398 2001-08-24   ...      2018-06-30   \n",
       "157        NaT   ...      2018-04-30   \n",
       "127 1990-08-08   ...      2018-04-11   \n",
       "\n",
       "                                             job_links      job_title  \\\n",
       "216  https://www.shixiseng.com/intern/inn_bzpgl39l7d6x          爬虫工程师   \n",
       "320  https://www.shixiseng.com/intern/inn_upifv1jbbyy2  机器学习算法研发（实习生）   \n",
       "398  https://www.shixiseng.com/intern/inn_lqvz1fydon8m          算法实习生   \n",
       "157  https://www.shixiseng.com/intern/inn_wqxpazsy7ukk     数据挖掘/统计实习生   \n",
       "127  https://www.shixiseng.com/intern/inn_ifjawjygksmn        数据挖掘实习生   \n",
       "\n",
       "    num_employee released_time   tag time_span         update_time       wage  \\\n",
       "216         小型公司    acceptable  数据挖掘        10 2018-02-26 10:56:43   50-100/天   \n",
       "320         大型公司    acceptable    算法         6 2018-03-05 11:15:10  115-145/天   \n",
       "398         大型公司        newest    算法         4 2018-03-22 09:46:56  120-220/天   \n",
       "157         小型公司           new    软件         3 2018-03-13 16:43:33  200-250/天   \n",
       "127         大型公司           new  数据挖掘         5 2018-03-16 20:55:31  120-170/天   \n",
       "\n",
       "    avg_wage  \n",
       "216     75.0  \n",
       "320    130.0  \n",
       "398    170.0  \n",
       "157    225.0  \n",
       "127    145.0  \n",
       "\n",
       "[5 rows x 22 columns]"
      ]
     },
     "execution_count": 186,
     "metadata": {},
     "output_type": "execute_result"
    }
   ],
   "source": [
    "data_clean.sample(5)"
   ]
  },
  {
   "cell_type": "markdown",
   "metadata": {},
   "source": [
    "<table><td bgcolor=#EAFAF align=\"left\"><font color=#0099ff size = 3 face=\"黑体\">一些数据的基本处理部分就到此为止啦，可以开始进行数据分析工作啦，当然随着分析纬度的不同，如果需要对更多对数据分析，后期也可以继续进行一些处理，我认为数据处理的目的就是为了能够更好的服务分析部分～<font></td></table>"
   ]
  },
  {
   "cell_type": "code",
   "execution_count": null,
   "metadata": {},
   "outputs": [],
   "source": []
  }
 ],
 "metadata": {
  "kernelspec": {
   "display_name": "Python 3",
   "language": "python",
   "name": "python3"
  },
  "language_info": {
   "codemirror_mode": {
    "name": "ipython",
    "version": 3
   },
   "file_extension": ".py",
   "mimetype": "text/x-python",
   "name": "python",
   "nbconvert_exporter": "python",
   "pygments_lexer": "ipython3",
   "version": "3.6.4"
  },
  "toc": {
   "base_numbering": 1,
   "nav_menu": {},
   "number_sections": true,
   "sideBar": true,
   "skip_h1_title": false,
   "title_cell": "Table of Contents",
   "title_sidebar": "Contents",
   "toc_cell": false,
   "toc_position": {
    "height": "calc(100% - 180px)",
    "left": "10px",
    "top": "150px",
    "width": "286px"
   },
   "toc_section_display": true,
   "toc_window_display": true
  }
 },
 "nbformat": 4,
 "nbformat_minor": 2
}
